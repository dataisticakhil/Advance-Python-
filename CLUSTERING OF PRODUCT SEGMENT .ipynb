{
 "cells": [
  {
   "cell_type": "markdown",
   "metadata": {},
   "source": [
    "# Case Study - customerspends.csv - Product Segmentation\n",
    "\n",
    "An online grocery store has captured amount spent per annum (in Indian Rupee) by 20 customers on apparel and beauty and healthcare products and given in the file customerspends.csv it contains the following records. \n",
    "\n",
    "- Customer Customer ID \n",
    "- Apparel Amount spent in apparel products\n",
    "- Beauty and Healthcare amount spent in beauty and healthcare products \n"
   ]
  },
  {
   "cell_type": "code",
   "execution_count": 1,
   "metadata": {},
   "outputs": [],
   "source": [
    "#1. create a scatter plot to depict the customer spends on apparel and beauty and healthcare products and identify number of clusters existing in the dataset."
   ]
  },
  {
   "cell_type": "code",
   "execution_count": 2,
   "metadata": {},
   "outputs": [],
   "source": [
    "# 1. Import libraries\n",
    "\n",
    "import numpy as np\n",
    "import pandas as pd\n",
    "import matplotlib.pyplot as plt\n",
    "import seaborn as sns\n",
    "\n",
    "from sklearn.preprocessing import StandardScaler\n",
    "from sklearn.cluster import KMeans, AgglomerativeClustering"
   ]
  },
  {
   "cell_type": "code",
   "execution_count": 3,
   "metadata": {},
   "outputs": [
    {
     "name": "stdout",
     "output_type": "stream",
     "text": [
      "<class 'pandas.core.frame.DataFrame'>\n",
      "RangeIndex: 20 entries, 0 to 19\n",
      "Data columns (total 3 columns):\n",
      " #   Column                 Non-Null Count  Dtype  \n",
      "---  ------                 --------------  -----  \n",
      " 0   Customer               20 non-null     int64  \n",
      " 1   Apparel                20 non-null     float64\n",
      " 2   Beauty and Healthcare  20 non-null     float64\n",
      "dtypes: float64(2), int64(1)\n",
      "memory usage: 608.0 bytes\n"
     ]
    },
    {
     "data": {
      "text/html": [
       "<div>\n",
       "<style scoped>\n",
       "    .dataframe tbody tr th:only-of-type {\n",
       "        vertical-align: middle;\n",
       "    }\n",
       "\n",
       "    .dataframe tbody tr th {\n",
       "        vertical-align: top;\n",
       "    }\n",
       "\n",
       "    .dataframe thead th {\n",
       "        text-align: right;\n",
       "    }\n",
       "</style>\n",
       "<table border=\"1\" class=\"dataframe\">\n",
       "  <thead>\n",
       "    <tr style=\"text-align: right;\">\n",
       "      <th></th>\n",
       "      <th>Customer</th>\n",
       "      <th>Apparel</th>\n",
       "      <th>Beauty and Healthcare</th>\n",
       "    </tr>\n",
       "  </thead>\n",
       "  <tbody>\n",
       "    <tr>\n",
       "      <th>0</th>\n",
       "      <td>1</td>\n",
       "      <td>21.10</td>\n",
       "      <td>0.7</td>\n",
       "    </tr>\n",
       "    <tr>\n",
       "      <th>1</th>\n",
       "      <td>2</td>\n",
       "      <td>15.23</td>\n",
       "      <td>5.5</td>\n",
       "    </tr>\n",
       "    <tr>\n",
       "      <th>2</th>\n",
       "      <td>3</td>\n",
       "      <td>5.22</td>\n",
       "      <td>18.6</td>\n",
       "    </tr>\n",
       "    <tr>\n",
       "      <th>3</th>\n",
       "      <td>4</td>\n",
       "      <td>31.10</td>\n",
       "      <td>1.8</td>\n",
       "    </tr>\n",
       "    <tr>\n",
       "      <th>4</th>\n",
       "      <td>5</td>\n",
       "      <td>6.12</td>\n",
       "      <td>21.5</td>\n",
       "    </tr>\n",
       "  </tbody>\n",
       "</table>\n",
       "</div>"
      ],
      "text/plain": [
       "   Customer  Apparel  Beauty and Healthcare\n",
       "0         1    21.10                    0.7\n",
       "1         2    15.23                    5.5\n",
       "2         3     5.22                   18.6\n",
       "3         4    31.10                    1.8\n",
       "4         5     6.12                   21.5"
      ]
     },
     "execution_count": 3,
     "metadata": {},
     "output_type": "execute_result"
    }
   ],
   "source": [
    "# 2. Read the dataset beer.csv\n",
    "\n",
    "customers = pd.read_csv('customerspends.csv')\n",
    "customers.info()\n",
    "customers.head()"
   ]
  },
  {
   "cell_type": "code",
   "execution_count": 4,
   "metadata": {},
   "outputs": [
    {
     "data": {
      "text/plain": [
       "array([[-1.64750894,  0.892371  , -1.26688022],\n",
       "       [-1.47408695,  0.20647107, -0.59775334],\n",
       "       [-1.30066495, -0.96318111,  1.22840542],\n",
       "       [-1.12724296,  2.06085469, -1.11353864],\n",
       "       [-0.95382097, -0.85801758,  1.63266957]])"
      ]
     },
     "execution_count": 4,
     "metadata": {},
     "output_type": "execute_result"
    }
   ],
   "source": [
    "# 3. Standardize numeric features\n",
    "\n",
    "scaled_customers = StandardScaler().fit_transform(customers[['Customer','Apparel','Beauty and Healthcare']])\n",
    "scaled_customers[0:5]"
   ]
  },
  {
   "cell_type": "code",
   "execution_count": 5,
   "metadata": {},
   "outputs": [
    {
     "data": {
      "text/plain": [
       "<seaborn.matrix.ClusterGrid at 0x1f6a118d7c0>"
      ]
     },
     "execution_count": 5,
     "metadata": {},
     "output_type": "execute_result"
    },
    {
     "data": {
      "image/png": "[encoded data removed]",
      "text/plain": [
       "<Figure size 720x720 with 4 Axes>"
      ]
     },
     "metadata": {
      "needs_background": "light"
     },
     "output_type": "display_data"
    }
   ],
   "source": [
    "# 4. Draw Dendrogram\n",
    "\n",
    "sns.clustermap(scaled_customers)"
   ]
  },
  {
   "cell_type": "code",
   "execution_count": 6,
   "metadata": {},
   "outputs": [
    {
     "name": "stdout",
     "output_type": "stream",
     "text": [
      "Similar Instances     :\n",
      "     Customer  Apparel  Beauty and Healthcare\n",
      "12        13     4.40                   19.4\n",
      "13        14     4.25                   15.5\n",
      "Dis-similar Instances :\n",
      "     Customer  Apparel  Beauty and Healthcare\n",
      "6          7      8.5                  16.20\n",
      "18        19     14.4                   6.28\n"
     ]
    }
   ],
   "source": [
    "# 5. Display similar & dis-similar instances\n",
    "\n",
    "print(\"Similar Instances     :\\n\",customers.loc[[12,13]])\n",
    "print(\"Dis-similar Instances :\\n\",customers.loc[[6,18]])"
   ]
  },
  {
   "cell_type": "code",
   "execution_count": 7,
   "metadata": {},
   "outputs": [],
   "source": [
    "# 6. Elbow Method - variance explained by the clusters is plotted against the no. of clusters\n",
    "\n",
    "cluster_error = []\n",
    "cluster_range = range(1,10)\n",
    "for i in cluster_range:\n",
    "    clust = KMeans(i).fit(scaled_customers)\n",
    "    cluster_error.append(clust.inertia_)  # inertia_ in python - wcss"
   ]
  },
  {
   "cell_type": "code",
   "execution_count": 8,
   "metadata": {},
   "outputs": [
    {
     "data": {
      "text/plain": [
       "Text(0.5, 1.0, 'Elbow Diagram')"
      ]
     },
     "execution_count": 8,
     "metadata": {},
     "output_type": "execute_result"
    },
    {
     "data": {
      "image/png": "[encoded data removed]",
      "text/plain": [
       "<Figure size 576x288 with 1 Axes>"
      ]
     },
     "metadata": {
      "needs_background": "light"
     },
     "output_type": "display_data"
    }
   ],
   "source": [
    "# Plot - Elbow method outcome\n",
    "\n",
    "plt.figure(figsize=(8,4))\n",
    "plt.plot(cluster_range, cluster_error, marker = \"o\")\n",
    "plt.title(\"Elbow Diagram\")"
   ]
  },
  {
   "cell_type": "markdown",
   "metadata": {},
   "source": [
    "**Interpretation**\n",
    "\n",
    "- Elbow point is at 2\n",
    "- Indicates that there might be 2 clusters existing in the dataset "
   ]
  },
  {
   "cell_type": "code",
   "execution_count": 9,
   "metadata": {},
   "outputs": [
    {
     "data": {
      "text/html": [
       "<div>\n",
       "<style scoped>\n",
       "    .dataframe tbody tr th:only-of-type {\n",
       "        vertical-align: middle;\n",
       "    }\n",
       "\n",
       "    .dataframe tbody tr th {\n",
       "        vertical-align: top;\n",
       "    }\n",
       "\n",
       "    .dataframe thead th {\n",
       "        text-align: right;\n",
       "    }\n",
       "</style>\n",
       "<table border=\"1\" class=\"dataframe\">\n",
       "  <thead>\n",
       "    <tr style=\"text-align: right;\">\n",
       "      <th></th>\n",
       "      <th>Customer</th>\n",
       "      <th>Apparel</th>\n",
       "      <th>Beauty and Healthcare</th>\n",
       "      <th>clusterid</th>\n",
       "    </tr>\n",
       "  </thead>\n",
       "  <tbody>\n",
       "    <tr>\n",
       "      <th>0</th>\n",
       "      <td>1</td>\n",
       "      <td>21.10</td>\n",
       "      <td>0.7</td>\n",
       "      <td>1</td>\n",
       "    </tr>\n",
       "    <tr>\n",
       "      <th>1</th>\n",
       "      <td>2</td>\n",
       "      <td>15.23</td>\n",
       "      <td>5.5</td>\n",
       "      <td>1</td>\n",
       "    </tr>\n",
       "    <tr>\n",
       "      <th>2</th>\n",
       "      <td>3</td>\n",
       "      <td>5.22</td>\n",
       "      <td>18.6</td>\n",
       "      <td>0</td>\n",
       "    </tr>\n",
       "    <tr>\n",
       "      <th>3</th>\n",
       "      <td>4</td>\n",
       "      <td>31.10</td>\n",
       "      <td>1.8</td>\n",
       "      <td>1</td>\n",
       "    </tr>\n",
       "    <tr>\n",
       "      <th>4</th>\n",
       "      <td>5</td>\n",
       "      <td>6.12</td>\n",
       "      <td>21.5</td>\n",
       "      <td>0</td>\n",
       "    </tr>\n",
       "  </tbody>\n",
       "</table>\n",
       "</div>"
      ],
      "text/plain": [
       "   Customer  Apparel  Beauty and Healthcare  clusterid\n",
       "0         1    21.10                    0.7          1\n",
       "1         2    15.23                    5.5          1\n",
       "2         3     5.22                   18.6          0\n",
       "3         4    31.10                    1.8          1\n",
       "4         5     6.12                   21.5          0"
      ]
     },
     "execution_count": 9,
     "metadata": {},
     "output_type": "execute_result"
    }
   ],
   "source": [
    "# 7. Set K=3 & run KMeans algorithm - Create a new column clusterid to capture the cluster number it is assigned to \n",
    "\n",
    "clust2 = KMeans(2, random_state = 42).fit(scaled_customers)\n",
    "customers[\"clusterid\"] = clust2.labels_ \n",
    "customers.head()"
   ]
  },
  {
   "cell_type": "code",
   "execution_count": 11,
   "metadata": {},
   "outputs": [
    {
     "name": "stdout",
     "output_type": "stream",
     "text": [
      "Cluster 0 Dimensions: \t (9, 4)\n",
      "Cluster 1 Dimensions: \t (11, 4)\n"
     ]
    }
   ],
   "source": [
    "# 8. Print dimensions of each new cluster created\n",
    "\n",
    "print(\"Cluster 0 Dimensions: \\t\",customers[customers.clusterid==0].shape)\n",
    "print(\"Cluster 1 Dimensions: \\t\",customers[customers.clusterid==1].shape)"
   ]
  },
  {
   "cell_type": "code",
   "execution_count": 12,
   "metadata": {},
   "outputs": [
    {
     "name": "stdout",
     "output_type": "stream",
     "text": [
      "Cluster 0\n",
      "     Customer  Apparel  Beauty and Healthcare  clusterid\n",
      "2          3     5.22                  18.60          0\n",
      "4          5     6.12                  21.50          0\n",
      "6          7     8.50                  16.20          0\n",
      "8          9     4.34                  17.70          0\n",
      "10        11     5.20                  16.20          0\n",
      "12        13     4.40                  19.40          0\n",
      "13        14     4.25                  15.50          0\n",
      "15        16     7.90                  18.80          0\n",
      "19        20     6.25                   9.98          0 \n",
      "\n",
      "Cluster 1\n",
      "     Customer  Apparel  Beauty and Healthcare  clusterid\n",
      "0          1    21.10                   0.70          1\n",
      "1          2    15.23                   5.50          1\n",
      "3          4    31.10                   1.80          1\n",
      "5          6    14.50                   8.20          1\n",
      "7          8    26.50                   2.20          1\n",
      "9         10    13.75                   7.30          1\n",
      "11        12    14.20                   2.90          1\n",
      "14        15    22.30                   0.90          1\n",
      "16        17    13.40                   4.20          1\n",
      "17        18    30.60                   1.90          1\n",
      "18        19    14.40                   6.28          1 \n",
      "\n"
     ]
    }
   ],
   "source": [
    "# 9. Print instances cluster-wise (0, & 1)\n",
    "\n",
    "print(\"Cluster 0\\n\",customers[customers.clusterid==0],\"\\n\")\n",
    "print(\"Cluster 1\\n\",customers[customers.clusterid==1],\"\\n\")"
   ]
  },
  {
   "cell_type": "code",
   "execution_count": 14,
   "metadata": {},
   "outputs": [
    {
     "data": {
      "text/html": [
       "<div>\n",
       "<style scoped>\n",
       "    .dataframe tbody tr th:only-of-type {\n",
       "        vertical-align: middle;\n",
       "    }\n",
       "\n",
       "    .dataframe tbody tr th {\n",
       "        vertical-align: top;\n",
       "    }\n",
       "\n",
       "    .dataframe thead th {\n",
       "        text-align: right;\n",
       "    }\n",
       "</style>\n",
       "<table border=\"1\" class=\"dataframe\">\n",
       "  <thead>\n",
       "    <tr style=\"text-align: right;\">\n",
       "      <th></th>\n",
       "      <th>Customer</th>\n",
       "      <th>Apparel</th>\n",
       "      <th>Beauty and Healthcare</th>\n",
       "      <th>clusterid</th>\n",
       "      <th>h_clusterid</th>\n",
       "    </tr>\n",
       "  </thead>\n",
       "  <tbody>\n",
       "    <tr>\n",
       "      <th>0</th>\n",
       "      <td>1</td>\n",
       "      <td>21.10</td>\n",
       "      <td>0.7</td>\n",
       "      <td>1</td>\n",
       "      <td>0</td>\n",
       "    </tr>\n",
       "    <tr>\n",
       "      <th>1</th>\n",
       "      <td>2</td>\n",
       "      <td>15.23</td>\n",
       "      <td>5.5</td>\n",
       "      <td>1</td>\n",
       "      <td>0</td>\n",
       "    </tr>\n",
       "    <tr>\n",
       "      <th>2</th>\n",
       "      <td>3</td>\n",
       "      <td>5.22</td>\n",
       "      <td>18.6</td>\n",
       "      <td>0</td>\n",
       "      <td>1</td>\n",
       "    </tr>\n",
       "    <tr>\n",
       "      <th>3</th>\n",
       "      <td>4</td>\n",
       "      <td>31.10</td>\n",
       "      <td>1.8</td>\n",
       "      <td>1</td>\n",
       "      <td>0</td>\n",
       "    </tr>\n",
       "    <tr>\n",
       "      <th>4</th>\n",
       "      <td>5</td>\n",
       "      <td>6.12</td>\n",
       "      <td>21.5</td>\n",
       "      <td>0</td>\n",
       "      <td>1</td>\n",
       "    </tr>\n",
       "  </tbody>\n",
       "</table>\n",
       "</div>"
      ],
      "text/plain": [
       "   Customer  Apparel  Beauty and Healthcare  clusterid  h_clusterid\n",
       "0         1    21.10                    0.7          1            0\n",
       "1         2    15.23                    5.5          1            0\n",
       "2         3     5.22                   18.6          0            1\n",
       "3         4    31.10                    1.8          1            0\n",
       "4         5     6.12                   21.5          0            1"
      ]
     },
     "execution_count": 14,
     "metadata": {},
     "output_type": "execute_result"
    }
   ],
   "source": [
    "# 10. Hierarchical clustering - Store cluster labels in varible h_clusterid\n",
    "\n",
    "h_clusters = AgglomerativeClustering(2).fit(scaled_customers)\n",
    "customers[\"h_clusterid\"] = h_clusters.labels_ \n",
    "customers[0:5]"
   ]
  },
  {
   "cell_type": "code",
   "execution_count": 15,
   "metadata": {},
   "outputs": [
    {
     "name": "stdout",
     "output_type": "stream",
     "text": [
      "Cluster 0 Dimensions: \t (12, 5)\n",
      "Cluster 1 Dimensions: \t (8, 5)\n"
     ]
    }
   ],
   "source": [
    "# 11. Print dimensions of each new cluster created\n",
    "\n",
    "print(\"Cluster 0 Dimensions: \\t\",customers[customers.h_clusterid==0].shape)\n",
    "print(\"Cluster 1 Dimensions: \\t\",customers[customers.h_clusterid==1].shape)"
   ]
  },
  {
   "cell_type": "code",
   "execution_count": 16,
   "metadata": {},
   "outputs": [
    {
     "name": "stdout",
     "output_type": "stream",
     "text": [
      "Cluster 0\n",
      "     Customer  Apparel  Beauty and Healthcare  clusterid  h_clusterid\n",
      "0          1    21.10                   0.70          1            0\n",
      "1          2    15.23                   5.50          1            0\n",
      "3          4    31.10                   1.80          1            0\n",
      "5          6    14.50                   8.20          1            0\n",
      "7          8    26.50                   2.20          1            0\n",
      "9         10    13.75                   7.30          1            0\n",
      "11        12    14.20                   2.90          1            0\n",
      "14        15    22.30                   0.90          1            0\n",
      "16        17    13.40                   4.20          1            0\n",
      "17        18    30.60                   1.90          1            0\n",
      "18        19    14.40                   6.28          1            0\n",
      "19        20     6.25                   9.98          0            0 \n",
      "\n",
      "Cluster 1\n",
      "     Customer  Apparel  Beauty and Healthcare  clusterid  h_clusterid\n",
      "2          3     5.22                   18.6          0            1\n",
      "4          5     6.12                   21.5          0            1\n",
      "6          7     8.50                   16.2          0            1\n",
      "8          9     4.34                   17.7          0            1\n",
      "10        11     5.20                   16.2          0            1\n",
      "12        13     4.40                   19.4          0            1\n",
      "13        14     4.25                   15.5          0            1\n",
      "15        16     7.90                   18.8          0            1 \n",
      "\n"
     ]
    }
   ],
   "source": [
    "# 12. Compare the clusters created by k-means & hierarchical clustering\n",
    "#     Print each cluster independently & interpret the characteristic of each cluster\n",
    "#     Print instances cluster-wise (0, 1, & 2)\n",
    "\n",
    "print(\"Cluster 0\\n\",customers[customers.h_clusterid==0],\"\\n\")\n",
    "print(\"Cluster 1\\n\",customers[customers.h_clusterid==1],\"\\n\")"
   ]
  },
  {
   "cell_type": "code",
   "execution_count": null,
   "metadata": {},
   "outputs": [],
   "source": []
  }
 ],
 "metadata": {
  "kernelspec": {
   "display_name": "Python 3",
   "language": "python",
   "name": "python3"
  },
  "language_info": {
   "codemirror_mode": {
    "name": "ipython",
    "version": 3
   },
   "file_extension": ".py",
   "mimetype": "text/x-python",
   "name": "python",
   "nbconvert_exporter": "python",
   "pygments_lexer": "ipython3",
   "version": "3.8.5"
  }
 },
 "nbformat": 4,
 "nbformat_minor": 4
}
